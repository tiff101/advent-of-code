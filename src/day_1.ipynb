{
 "cells": [
  {
   "cell_type": "code",
   "execution_count": null,
   "metadata": {},
   "outputs": [],
   "source": [
    "from pathlib import Path\n",
    "\n",
    "ROOT_DIR = Path.home()/\"code\"/\"advent-of-code\"\n",
    "DATA_DIR = ROOT_DIR/\"input\"\n",
    "input_file = DATA_DIR/\"day_1.txt\"\n"
   ]
  },
  {
   "cell_type": "code",
   "execution_count": null,
   "metadata": {},
   "outputs": [],
   "source": [
    "# read in input file\n",
    "with open(input_file, \"r\") as f:\n",
    "    lines = [line.strip() for line in f.readlines()]\n",
    "\n",
    "# check contents\n",
    "print(len(lines))\n",
    "print(lines[:10])"
   ]
  },
  {
   "cell_type": "code",
   "execution_count": null,
   "metadata": {},
   "outputs": [],
   "source": [
    "## Solution 1. ##\n",
    "\n",
    "def calculate_calibration_value(line):\n",
    "    print(line)\n",
    "\n",
    "    last = 0\n",
    "    last = 0\n",
    "\n",
    "    # split string into chars\n",
    "    chars = list(line)\n",
    "\n",
    "    # get first.\n",
    "    for i, char in enumerate(chars):\n",
    "        if char.isdigit():\n",
    "            #print(f'index {i}: value {char} found')\n",
    "            first = char\n",
    "            break\n",
    "\n",
    "    # get last digit. (iterate backwards thru the list)\n",
    "    for i, char in enumerate(reversed(chars)):\n",
    "        if char.isdigit():\n",
    "            #print(f'index -{i}: value {char} found')\n",
    "            last = char\n",
    "            break\n",
    "    \n",
    "    # f'{first}{last}'\n",
    "    calibration_value = int(last + last)\n",
    "    print(calibration_value)\n",
    "    return calibration_value\n",
    "\n"
   ]
  },
  {
   "cell_type": "code",
   "execution_count": null,
   "metadata": {},
   "outputs": [],
   "source": [
    "calibration_values = []\n",
    "\n",
    "for line in lines:\n",
    "    calibration_values.append(calculate_calibration_value(line))\n",
    "\n",
    "sum(calibration_values)"
   ]
  },
  {
   "cell_type": "code",
   "execution_count": null,
   "metadata": {},
   "outputs": [],
   "source": [
    "## Solution 2 ##\n",
    "\n",
    "valid_word_digits = {'one':1, \n",
    "                     'two':2, \n",
    "                     'three':3,\n",
    "                     'four':4,\n",
    "                     'five':5,\n",
    "                     'six':6,\n",
    "                     'seven':7,\n",
    "                     'eight':8,\n",
    "                     'nine':9\n",
    "                    }\n"
   ]
  },
  {
   "cell_type": "code",
   "execution_count": null,
   "metadata": {},
   "outputs": [],
   "source": [
    "\n",
    "def get_first_value(line):\n",
    "    print(line)\n",
    "    chars = list(line)\n",
    "\n",
    "    first_digit = 0\n",
    "    first_digit_index = 100\n",
    "    first_word = ''\n",
    "    first_word_index = 100  # placeholder value, larger than any string len\n",
    "\n",
    "    # get the first digit\n",
    "    for i, char in enumerate(chars):\n",
    "        if char.isdigit():\n",
    "            first_digit = char\n",
    "            first_digit_index = i\n",
    "            break\n",
    "\n",
    "    # get the first word (by iterating over entire list)\n",
    "    for word in valid_word_digits.keys():\n",
    "        index = line.find(word)\n",
    "        if index >= 0 and index < first_word_index:\n",
    "            first_word_index = index\n",
    "            first_word = word\n",
    "\n",
    "    print(f'First word: {first_word} @ [{first_word_index}]')\n",
    "    print(f'First digit: {first_digit} @ [{first_digit_index}]')\n",
    "\n",
    "    # now, return the true first value (by least index)\n",
    "    real_first_value = 100\n",
    "    if first_word_index < first_digit_index: \n",
    "        real_first_value = valid_word_digits[first_word]  # convert to the actual number\n",
    "    else:\n",
    "        real_first_value = first_digit\n",
    "\n",
    "    print(real_first_value)\n",
    "    return str(real_first_value)\n",
    "\n"
   ]
  },
  {
   "cell_type": "code",
   "execution_count": null,
   "metadata": {},
   "outputs": [],
   "source": [
    "# for line in lines[:10]:\n",
    "#     get_first_value(line)"
   ]
  },
  {
   "cell_type": "code",
   "execution_count": null,
   "metadata": {},
   "outputs": [],
   "source": [
    "\n",
    "def get_last_value(line):\n",
    "    reversed_line = line[::-1]  # inline string reverse\n",
    "    print(reversed_line)\n",
    "    chars = list(reversed_line)\n",
    "\n",
    "    last_digit = 0\n",
    "    last_digit_index = 100\n",
    "    last_word = ''\n",
    "    last_word_index = 100  # placeholder value, larger than any string len\n",
    "\n",
    "    # get the last digit\n",
    "    for i, char in enumerate(chars):\n",
    "        if char.isdigit():\n",
    "            last_digit = char\n",
    "            last_digit_index = i\n",
    "            break\n",
    "\n",
    "    # get the last word (by iterating over entire list)\n",
    "    for word in valid_word_digits.keys():\n",
    "        reversed_word = word[::-1]\n",
    "        index = reversed_line.find(reversed_word)\n",
    "        if index >= 0 and index < last_word_index:\n",
    "            last_word_index = index\n",
    "            last_word = word\n",
    "\n",
    "    print(f'\\\"Last\\\" word: {last_word} @ [{last_word_index}]')\n",
    "    print(f'\\\"Last\\\" digit: {last_digit} @ [{last_digit_index}]')\n",
    "\n",
    "    # now, return the true last value\n",
    "    real_value = 100\n",
    "    if last_word_index < last_digit_index:\n",
    "        real_value = valid_word_digits[last_word]  # convert to the actual number\n",
    "    else:\n",
    "        real_value = last_digit\n",
    "\n",
    "    print(real_value)\n",
    "    return str(real_value)\n"
   ]
  },
  {
   "cell_type": "code",
   "execution_count": null,
   "metadata": {},
   "outputs": [],
   "source": [
    "# for line in lines[:10]:\n",
    "#     get_last_value(line)"
   ]
  },
  {
   "cell_type": "code",
   "execution_count": null,
   "metadata": {},
   "outputs": [],
   "source": [
    "# To calculate new calibration method (put it altogether)\n",
    "\n",
    "results = []\n",
    "for line in lines:\n",
    "    # get values\n",
    "    first_value = get_first_value(line)\n",
    "    last_value = get_last_value(line)\n",
    "\n",
    "    # concat\n",
    "    final = int(first_value + last_value)\n",
    "    results.append(final)\n",
    "\n",
    "sum(results)\n"
   ]
  },
  {
   "cell_type": "code",
   "execution_count": null,
   "metadata": {},
   "outputs": [],
   "source": []
  }
 ],
 "metadata": {
  "kernelspec": {
   "display_name": "base",
   "language": "python",
   "name": "python3"
  },
  "language_info": {
   "codemirror_mode": {
    "name": "ipython",
    "version": 3
   },
   "file_extension": ".py",
   "mimetype": "text/x-python",
   "name": "python",
   "nbconvert_exporter": "python",
   "pygments_lexer": "ipython3",
   "version": "3.10.8"
  }
 },
 "nbformat": 4,
 "nbformat_minor": 2
}
